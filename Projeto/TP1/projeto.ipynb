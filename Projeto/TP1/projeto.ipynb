{
 "cells": [
  {
   "cell_type": "markdown",
   "metadata": {},
   "source": [
    "# Processamento de Linguagens 2021/2022"
   ]
  },
  {
   "cell_type": "markdown",
   "metadata": {},
   "source": [
    "## Licenciatura em Ciências da Computação"
   ]
  },
  {
   "cell_type": "markdown",
   "metadata": {},
   "source": [
    "## Trabalho Prático nº 1: Processador de Utilizadores registados no sistema Clav"
   ]
  },
  {
   "cell_type": "markdown",
   "metadata": {},
   "source": [
    "### Grupo 3\n",
    "\n",
    "Alexandre Rodrigues Balde (A70373)\\\n",
    "Marco Alexandre Félix de Lima (A86030)"
   ]
  },
  {
   "cell_type": "markdown",
   "metadata": {},
   "source": [
    "---"
   ]
  },
  {
   "cell_type": "markdown",
   "metadata": {},
   "source": [
    "### Implementação e Relatório"
   ]
  },
  {
   "cell_type": "markdown",
   "metadata": {},
   "source": [
    "Como diz no enunciado:\n",
    "> N\"[...]o texto 'clav-users.txt' em que campos de informação têm a seguinte ordem: nome, email, entidade, nível, número de chamadas ao backend\n",
    "\n",
    "Assume-se que:\n",
    "* cada linha do ficheiro está no seguinte formato: `{nome} :: {email} :: {entidade} :: {nivel} :: {backend_calls}`\n",
    "* cada um dos campos acima é **não opcional** i.e. pode estar em branco mas têm todos que contabilizar `5`.\n",
    "* entre cada um dos `5` campos há necessariamente a string `\" :: \"`, ou seja, há 4 ocorrências de `\" :: \"` em cada linha."
   ]
  },
  {
   "cell_type": "code",
   "execution_count": 1,
   "metadata": {},
   "outputs": [],
   "source": [
    "import re\n",
    "import os\n",
    "import icu"
   ]
  },
  {
   "cell_type": "markdown",
   "metadata": {},
   "source": [
    "Para se obter o `path` do ficheiro `clav-users.txt` - que tem a informação que se pretende processar dos utilizadores do sistema `clav` - usam-se as funções do módulo `os`."
   ]
  },
  {
   "cell_type": "code",
   "execution_count": 2,
   "metadata": {},
   "outputs": [],
   "source": [
    "ficheiro = 'clav-users.txt'\n",
    "\n",
    "def find_data_file(filename):\n",
    "    datadir = os.path.join(os.getcwd())\n",
    "    return os.path.join(datadir, filename)\n",
    "\n",
    "clav_file = find_data_file(ficheiro)"
   ]
  },
  {
   "cell_type": "markdown",
   "metadata": {},
   "source": [
    "#### PyICU\n",
    "\n",
    "Algumas das questões pedem ordenação alfabética.\\\n",
    "Para tal, faz-se uso do módulo `PyICU` do Python para lidar com strings Unicode.\\\n",
    "Permite e.g. fazer `sort` de strings `UTF-8` sem ter que modificá-las para retirar diacríticos ou acentos."
   ]
  },
  {
   "cell_type": "code",
   "execution_count": 3,
   "metadata": {},
   "outputs": [],
   "source": [
    "collator = icu.Collator.createInstance(icu.Locale('pt_PT.UTF-8'))"
   ]
  },
  {
   "cell_type": "markdown",
   "metadata": {},
   "source": [
    "---"
   ]
  },
  {
   "cell_type": "markdown",
   "metadata": {},
   "source": [
    "### Detalhes da Implementação"
   ]
  },
  {
   "cell_type": "markdown",
   "metadata": {},
   "source": [
    "Considere-se uma linha qualquer do ficheiro Clav que pretendemos processar.\n",
    "> `Madalena Ribeiro :: madalena.ribeiro07@gmail.com :: ent_DGLAB :: 4 :: 2`\n",
    "\n",
    "Há alíneas diferentes que pedem para recolher listas com os mesmos elementos de cada utilizador, mas estruturadas de forma diferente.\n",
    "Como essas tarefas só diferem na parte da manipulação de dados e não na filtragem, para evitar repetição criou-se a ER abaixo."
   ]
  },
  {
   "cell_type": "markdown",
   "metadata": {},
   "source": [
    "---"
   ]
  },
  {
   "cell_type": "markdown",
   "metadata": {},
   "source": [
    "A seguinte ER é usada para capturar nomes e entidades em cada uma das linhas do ficheiro lido.\\\n",
    "Só tem dois grupos - um para o nome, o outro para a entidade.\n",
    "\n",
    "Ao longo do projeto usar-se-á `'[^:]+'` para capturar os campos em cada linha - é importante referir que só resultará se **nenhum** dos campos tiver o caracter `':'`, que é o que se assume nesta implementação."
   ]
  },
  {
   "cell_type": "code",
   "execution_count": 4,
   "metadata": {},
   "outputs": [],
   "source": [
    "nome_e_entidade = r'^([^:]+)[ ]::[ ][^:]*[ ]::[ ]([^:]*)[ ]::[ ]'\n",
    "name_ent_regexep = re.compile(nome_e_entidade, re.MULTILINE)"
   ]
  },
  {
   "cell_type": "markdown",
   "metadata": {},
   "source": [
    "#### Notas\n",
    "\n",
    "#### 1\n",
    "\n",
    "Veja-se acima o uso da função [`re.compile`](https://docs.python.org/3/library/re.html#re.compile) para transformar uma expressão regular num [Regular Expression Object](https://docs.python.org/3/library/re.html#regular-expression-objects).\\\n",
    "Isto tem vários benefícios, mas aquele que interessa neste caso é poder passar à função `re.compile` flags que regem o comportamento da expressão regular.\\\n",
    "Aqui, usa-se a flag [`re.MULTILINE`](https://docs.python.org/3/library/re.html#re.MULTILINE).\\\n",
    "É então possível usar o símbolo `'^'` para dar \"match\" não só ao início da string - que seria o seu único uso sem esta flag - como também a cada linha (imediatamente após cada `'\\n'`).\n",
    "  \n",
    "  \n",
    "Sabemos que `clav-users.txt` tem um utilizador por linha, no formato descrito acima.\\\n",
    "A resolução deste projeto passa então por estruturar expressões regulares que trabalhem sobre uma única linha, e aplicá-las a todas as linhas através da técnica descrita.\n",
    "\n",
    "---\n",
    "\n",
    "#### 2\n",
    "\n",
    "Note-se que poderia ter-se utilizado uma ER como\n",
    "\n",
    "```r'^([^:]+)[ ]::[ ]([^:]+)[ ]::[ ]([^:]+)[ ]::[ ]([^:]+)[ ]::[ ]([^:]+)$'```\n",
    "\n",
    "para capturar todos os campos de informação em grupos separados, mas isso significaria guardar forçosamente resultados de pesquisa irrelevantes para um dado propósito.\\\n",
    "Por exemplo, querendo-se o nome e a entidade como na primeira alínea, estar-se-ia a guardar todos os outros campos para todos os utilizadores.\\\n",
    "Neste exemplo simples de dimensões reduzidas não há problema, mas seria oneroso fazê-lo num ficheiro com $O(10^6)$ linhas.\n",
    "\n",
    "Em alternativa, poder-se-ia fazer o processamento do ficheiro com esta ER uma só vez, mas novamente - haveria a necessidade de guardar toda\\\n",
    "a informação lida para uso posterior, o que não será comportável se o ficheiro for grande.\n",
    "\n",
    "Assim sendo, decidiu-se usar um ER para cada caso do enunciado, havendo reutilização só quando ela não acarreta ERs que produzam grupos não diretamente relacionados com a pesquisa em causa.\n",
    "\n",
    "Neste caso, há mais que uma alínea que pede **apenas** nomes e entidades de utilizador, mas organizados de forma diferente.\\\n",
    "Logo, esta ER pode ser usada nesses caso para filtrar nomes e entidades, sendo o procecssamento feito no resto da função, que já não pode ser comum."
   ]
  },
  {
   "cell_type": "markdown",
   "metadata": {},
   "source": [
    "---"
   ]
  },
  {
   "cell_type": "markdown",
   "metadata": {},
   "source": [
    "A variável `read_data` terá o conteúdo do ficheiro `clav-users.txt`.\\\n",
    "Isto permite que o ficheiro seja lido uma só vez durante a execução completa do programa.\\\n",
    "Aqui tem-se em conta a dimensão reduzida do ficheiro, caso contrário seria melhor lê-lo por segmentos."
   ]
  },
  {
   "cell_type": "code",
   "execution_count": 5,
   "metadata": {},
   "outputs": [],
   "source": [
    "clav = open(clav_file, r'r', encoding=\"utf-8\")\n",
    "read_data = clav.read()"
   ]
  },
  {
   "cell_type": "markdown",
   "metadata": {},
   "source": [
    "---"
   ]
  },
  {
   "cell_type": "markdown",
   "metadata": {},
   "source": [
    "#### Alínea 1"
   ]
  },
  {
   "cell_type": "markdown",
   "metadata": {},
   "source": [
    "A função abaixo produz uma lista de pares de strings.\\\n",
    "A primeira componente é o nome do utilizador no sistema, e a segunda é a sua entidade.\\\n",
    "Os pares estão ordenados alfabeticamente pela primeira componente, ou seja, pelo nome dos utilizadores."
   ]
  },
  {
   "cell_type": "code",
   "execution_count": 6,
   "metadata": {},
   "outputs": [
    {
     "data": {
      "text/plain": [
       "[('Alda do Carmo Namora Soares de Andrade', 'ent_FLUL'),\n",
       " ('Alexadre Teixeira', 'ent_KEEP'),\n",
       " ('Alexandra Lourenço', 'ent_DGLAB'),\n",
       " ('Alexandra Maria Alves Coutinho Rodrigues', 'ent_UTAD'),\n",
       " ('Alexandra Testes', 'ent_A3ES'),\n",
       " ('Alexandre Teixeira', 'ent_A3ES'),\n",
       " ('Aluno de DAW2020', 'ent_A3ES'),\n",
       " ('Ana Lúcia Cabrita Guerreiro', 'ent_CCDR-Alg'),\n",
       " ('Ana Maria Teixeira Gaspar', 'ent_SGMF'),\n",
       " ('António José Morim Brandão', 'ent_MdP'),\n",
       " ('Carlos Barbosa', 'ent_A3ES'),\n",
       " ('Carlos Matoso', 'ent_IEFP'),\n",
       " ('Cármen Isabel Amador Francisco', 'ent_CMSNS'),\n",
       " ('Cátia João Matias Trindade', 'ent_DGLAB'),\n",
       " ('Cátia Trindade', 'ent_DGLAB'),\n",
       " ('clara cristina rainho viegas', 'ent_DGLAB'),\n",
       " ('CLAV-migrator', 'ent_A3ES'),\n",
       " ('David Ferreira', 'ent_IEFP'),\n",
       " ('DAW2020-teste', 'ent_A3ES'),\n",
       " ('Design-DGLAB', 'ent_DGLAB'),\n",
       " ('Duarte Freitas', 'ent_A3ES'),\n",
       " ('Élia Cristina Viegas Pedro', 'ent_CCDR-Alg'),\n",
       " ('Fernando Manuel Antunes Marques da Silva', 'ent_STI-M'),\n",
       " ('Filipa Carvalho', 'ent_DGLAB'),\n",
       " ('Filipe Ferreira Cardoso Leitão', 'ent_CMSPS'),\n",
       " ('Formação DGLAB', 'ent_DGLAB'),\n",
       " ('Frederico Pinto', 'ent_ACSS'),\n",
       " ('jcm', 'ent_AAN'),\n",
       " ('jcr-rep-entidade', 'ent_A3ES'),\n",
       " ('Joana Braga', 'ent_IEFP'),\n",
       " ('João Paulo de Melo Esteves Pereira', 'ent_APA'),\n",
       " ('João Pimentel', 'ent_A3ES'),\n",
       " ('José Carlos Leite Ramalho', 'ent_A3ES'),\n",
       " ('José Carlos Leite Ramalho', 'ent_DGLAB'),\n",
       " ('José Carlos Martins', 'ent_A3ES'),\n",
       " ('Madalena Ribeiro', 'ent_DGLAB'),\n",
       " ('Madalena Ribeiro', 'ent_DGLAB'),\n",
       " ('Manuel Monteiro', 'ent_A3ES'),\n",
       " ('Maria Celeste Pereira', 'ent_DGLAB'),\n",
       " ('Maria José Maciel Chaves', 'ent_DGLAB'),\n",
       " ('Maria Leonor da Conceição Fresco Franco', 'ent_CCDR-LVT'),\n",
       " ('Maria Matos de Almeida Talhada Correia', 'ent_ICNF'),\n",
       " ('Maria Rita Gago', 'ent_DGLAB'),\n",
       " ('Miguel Ferreira', 'ent_KEEP'),\n",
       " ('Nuno Filipe Casas Novas', 'ent_CCDR-LVT'),\n",
       " ('octavio', 'ent_A3ES'),\n",
       " ('Paulo Lima', 'ent_KEEP'),\n",
       " ('Pedro Penteado', 'ent_DGLAB'),\n",
       " ('PRI2020-teste', 'ent_A3ES'),\n",
       " ('Regina Neves Lopes', 'ent_SGMF'),\n",
       " ('Ricardo Almeida', 'ent_DGEG'),\n",
       " ('Ricardo Canela', 'ent_BdP'),\n",
       " ('Rui Araújo', 'ent_II'),\n",
       " ('Rui Araújo Entidade', 'ent_AAN'),\n",
       " ('Rui Araújo Simples', 'ent_LNEC'),\n",
       " ('Sandra Cristina Patrício da Silva', 'ent_CMSNS'),\n",
       " ('Silvestre Lacerda', 'ent_DGLAB'),\n",
       " ('Sónia Isabel Ferreira Gonçalves Negrão', 'ent_CMABF'),\n",
       " ('Sónia Patrícia Pinheiro Reis', 'ent_ICNF'),\n",
       " ('Zélia Gomes', 'ent_DGLAB')]"
      ]
     },
     "execution_count": 6,
     "metadata": {},
     "output_type": "execute_result"
    }
   ],
   "source": [
    "def nome_e_ent():\n",
    "    unicode_string_key = lambda tup: collator.getSortKey(tup[0])\n",
    "    regexp_results = re.findall(name_ent_regexep, read_data)\n",
    "    return sorted([(match[0], match[1]) for match in regexp_results], key = unicode_string_key)\n",
    "\n",
    "nome_e_ent()"
   ]
  },
  {
   "cell_type": "markdown",
   "metadata": {},
   "source": [
    "---"
   ]
  },
  {
   "cell_type": "markdown",
   "metadata": {},
   "source": [
    "#### Alínea 2"
   ]
  },
  {
   "cell_type": "markdown",
   "metadata": {},
   "source": [
    "A função abaixo produz um dicionário cujas chaves são entidades presentes no ficheiro (ordenadas alfabeticamente) e cujos valores são o número de utilizadores registados em cada entidade."
   ]
  },
  {
   "cell_type": "code",
   "execution_count": 7,
   "metadata": {},
   "outputs": [
    {
     "data": {
      "text/plain": [
       "{'ent_A3ES': 14,\n",
       " 'ent_AAN': 2,\n",
       " 'ent_ACSS': 1,\n",
       " 'ent_APA': 1,\n",
       " 'ent_BdP': 1,\n",
       " 'ent_CCDR-Alg': 2,\n",
       " 'ent_CCDR-LVT': 2,\n",
       " 'ent_CMABF': 1,\n",
       " 'ent_CMSNS': 2,\n",
       " 'ent_CMSPS': 1,\n",
       " 'ent_DGEG': 1,\n",
       " 'ent_DGLAB': 16,\n",
       " 'ent_FLUL': 1,\n",
       " 'ent_ICNF': 2,\n",
       " 'ent_IEFP': 3,\n",
       " 'ent_II': 1,\n",
       " 'ent_KEEP': 3,\n",
       " 'ent_LNEC': 1,\n",
       " 'ent_MdP': 1,\n",
       " 'ent_SGMF': 2,\n",
       " 'ent_STI-M': 1,\n",
       " 'ent_UTAD': 1}"
      ]
     },
     "execution_count": 7,
     "metadata": {},
     "output_type": "execute_result"
    }
   ],
   "source": [
    "def entidade_e_users():\n",
    "    regexp = r'^[^:]+[ ]::[ ][^:]*[ ]::[ ]([^:]*)[ ]::[ ]'\n",
    "    prog = re.compile(regexp, re.MULTILINE)\n",
    "    dic = dict()\n",
    "    for ent in sorted(re.findall(prog, read_data), key = collator.getSortKey):\n",
    "        if ent not in dic.keys():\n",
    "            dic[ent] = 1\n",
    "        else:\n",
    "            dic[ent] += 1\n",
    "    return dic\n",
    "\n",
    "entidade_e_users()"
   ]
  },
  {
   "cell_type": "markdown",
   "metadata": {},
   "source": [
    "---"
   ]
  },
  {
   "cell_type": "markdown",
   "metadata": {},
   "source": [
    "#### Alínea 3"
   ]
  },
  {
   "cell_type": "markdown",
   "metadata": {},
   "source": [
    "A função abaixo produz um dicionário cujas chaves são os diferentes níveis de acesso presentes no ficheiro `clav-users.txt` e cujos valores são o número de utilizadores registados com esse nível.  \n",
    "\n",
    "A expressão regular usada para obter o nome do utilizadores é `r'^([^:]*[ ]::[ ]){3}([0-9\\.]+)'` - vêm primeiro os 3 campos iniciais, e só o quarto será o nível desse utilizador.  \n",
    "\n",
    "Usar parênteses em (`r'^([^:]*[ ]::[ ]){3}`) faz com que a primeira aplicação da ER `r'^([^:]*[ ]::[ ])` seja guardada num grupo - será o nome do utilizador seguido de `' :: '`, neste caso.  \n",
    "Nesta alínea não se buscam os nomes dos utilizadores, mas é necessário rodear a ER por parênteses para poder aplicar o operador de repetição para se chegar ao campo que interessa: `'{3}'`.\n"
   ]
  },
  {
   "cell_type": "code",
   "execution_count": 8,
   "metadata": {},
   "outputs": [
    {
     "data": {
      "text/plain": [
       "{'1': 23, '2': 7, '3': 1, '3.5': 1, '4': 8, '5': 2, '6': 2, '7': 16}"
      ]
     },
     "execution_count": 8,
     "metadata": {},
     "output_type": "execute_result"
    }
   ],
   "source": [
    "def utilizadores_por_nivel():\n",
    "    nivel_e_user = dict()\n",
    "    regexp = r'^([^:]*[ ]::[ ]){3}([0-9\\.]+)'\n",
    "    prog = re.compile(regexp, re.MULTILINE)\n",
    "    for _, num in sorted(re.findall(prog, read_data), key = lambda tup: float(tup[1])):\n",
    "        if num not in nivel_e_user.keys():\n",
    "            nivel_e_user[num] = 1\n",
    "        else:\n",
    "            nivel_e_user[num] += 1\n",
    "    return nivel_e_user\n",
    "\n",
    "utilizadores_por_nivel()"
   ]
  },
  {
   "cell_type": "markdown",
   "metadata": {},
   "source": [
    "---"
   ]
  },
  {
   "cell_type": "markdown",
   "metadata": {},
   "source": [
    "#### Alínea 4"
   ]
  },
  {
   "cell_type": "markdown",
   "metadata": {},
   "source": [
    "A função seguinte devolve, a partir dos dados lidos, um dicionário com entidades como chaves, e a lista de utilizadores a ela associados como valores.\\\n",
    "As chaves do dicionário, e as listas que são os seus valores estão ordenados alfabeticamente por ordem crescente."
   ]
  },
  {
   "cell_type": "code",
   "execution_count": 9,
   "metadata": {},
   "outputs": [
    {
     "name": "stdout",
     "output_type": "stream",
     "text": [
      "ent_A3ES: \n",
      "    Alexandra Testes\n",
      "    Alexandre Teixeira\n",
      "    Aluno de DAW2020\n",
      "    Carlos Barbosa\n",
      "    CLAV-migrator\n",
      "    DAW2020-teste\n",
      "    Duarte Freitas\n",
      "    jcr-rep-entidade\n",
      "    João Pimentel\n",
      "    José Carlos Leite Ramalho\n",
      "    José Carlos Martins\n",
      "    Manuel Monteiro\n",
      "    octavio\n",
      "    PRI2020-teste\n",
      "ent_AAN: \n",
      "    jcm\n",
      "    Rui Araújo Entidade\n",
      "ent_ACSS: \n",
      "    Frederico Pinto\n",
      "ent_APA: \n",
      "    João Paulo de Melo Esteves Pereira\n",
      "ent_BdP: \n",
      "    Ricardo Canela\n",
      "ent_CCDR-Alg: \n",
      "    Ana Lúcia Cabrita Guerreiro\n",
      "    Élia Cristina Viegas Pedro\n",
      "ent_CCDR-LVT: \n",
      "    Maria Leonor da Conceição Fresco Franco\n",
      "    Nuno Filipe Casas Novas\n",
      "ent_CMABF: \n",
      "    Sónia Isabel Ferreira Gonçalves Negrão\n",
      "ent_CMSNS: \n",
      "    Cármen Isabel Amador Francisco\n",
      "    Sandra Cristina Patrício da Silva\n",
      "ent_CMSPS: \n",
      "    Filipe Ferreira Cardoso Leitão\n",
      "ent_DGEG: \n",
      "    Ricardo Almeida\n",
      "ent_DGLAB: \n",
      "    Alexandra Lourenço\n",
      "    Cátia João Matias Trindade\n",
      "    Cátia Trindade\n",
      "    clara cristina rainho viegas\n",
      "    Design-DGLAB\n",
      "    Filipa Carvalho\n",
      "    Formação DGLAB\n",
      "    José Carlos Leite Ramalho\n",
      "    Madalena Ribeiro\n",
      "    Madalena Ribeiro\n",
      "    Maria Celeste Pereira\n",
      "    Maria José Maciel Chaves\n",
      "    Maria Rita Gago\n",
      "    Pedro Penteado\n",
      "    Silvestre Lacerda\n",
      "    Zélia Gomes\n",
      "ent_FLUL: \n",
      "    Alda do Carmo Namora Soares de Andrade\n",
      "ent_ICNF: \n",
      "    Maria Matos de Almeida Talhada Correia\n",
      "    Sónia Patrícia Pinheiro Reis\n",
      "ent_IEFP: \n",
      "    Carlos Matoso\n",
      "    David Ferreira\n",
      "    Joana Braga\n",
      "ent_II: \n",
      "    Rui Araújo\n",
      "ent_KEEP: \n",
      "    Alexadre Teixeira\n",
      "    Miguel Ferreira\n",
      "    Paulo Lima\n",
      "ent_LNEC: \n",
      "    Rui Araújo Simples\n",
      "ent_MdP: \n",
      "    António José Morim Brandão\n",
      "ent_SGMF: \n",
      "    Ana Maria Teixeira Gaspar\n",
      "    Regina Neves Lopes\n",
      "ent_STI-M: \n",
      "    Fernando Manuel Antunes Marques da Silva\n",
      "ent_UTAD: \n",
      "    Alexandra Maria Alves Coutinho Rodrigues\n"
     ]
    }
   ],
   "source": [
    "def group_users_by_ent():\n",
    "    unicode_string_tup_key = lambda tup: (collator.getSortKey(tup[0]), collator.getSortKey(tup[1]))\n",
    "    l = sorted([(m[1], m[0]) for m in re.findall(name_ent_regexep, read_data)], key = unicode_string_tup_key)\n",
    "\n",
    "    from itertools import groupby\n",
    "    dic = {}\n",
    "    for key, group in groupby(l,  lambda x: x[0]):\n",
    "        dic[key] = []\n",
    "        for _, name in group:\n",
    "            dic[key].append(name)\n",
    "    for k in dic.keys():\n",
    "        print(k + \": \")\n",
    "        for v in dic[k]:\n",
    "            print(\"    \" + v)\n",
    "\n",
    "group_users_by_ent()"
   ]
  },
  {
   "cell_type": "markdown",
   "metadata": {},
   "source": [
    "---"
   ]
  },
  {
   "cell_type": "markdown",
   "metadata": {},
   "source": [
    "#### Alínea 5"
   ]
  },
  {
   "cell_type": "markdown",
   "metadata": {},
   "source": [
    "A seguinte função devolve os indicadores pedidos no ponto 5. do enunciado do projeto 3.\\\n",
    "São:\n",
    "- O número de utilizadores do sistema\n",
    "- O número de entidades no sistema\n",
    "- A distribuição em número no sistema\n",
    "- A distribuição em número por nível\n",
    "\n",
    "#### Notas\n",
    "* Reutilizam-se algumas das funções anteriores, e para fazer as contagens, `len` ao resultado de `re.findall`.  \n",
    "* Para contar elementos que se podem repetir, inserem-se os resultados de `re.findall` num `set`, ao qual se faz-se `len`."
   ]
  },
  {
   "cell_type": "code",
   "execution_count": 10,
   "metadata": {},
   "outputs": [
    {
     "data": {
      "text/plain": [
       "(60,\n",
       " 22,\n",
       " {'ent_A3ES': 14,\n",
       "  'ent_AAN': 2,\n",
       "  'ent_ACSS': 1,\n",
       "  'ent_APA': 1,\n",
       "  'ent_BdP': 1,\n",
       "  'ent_CCDR-Alg': 2,\n",
       "  'ent_CCDR-LVT': 2,\n",
       "  'ent_CMABF': 1,\n",
       "  'ent_CMSNS': 2,\n",
       "  'ent_CMSPS': 1,\n",
       "  'ent_DGEG': 1,\n",
       "  'ent_DGLAB': 16,\n",
       "  'ent_FLUL': 1,\n",
       "  'ent_ICNF': 2,\n",
       "  'ent_IEFP': 3,\n",
       "  'ent_II': 1,\n",
       "  'ent_KEEP': 3,\n",
       "  'ent_LNEC': 1,\n",
       "  'ent_MdP': 1,\n",
       "  'ent_SGMF': 2,\n",
       "  'ent_STI-M': 1,\n",
       "  'ent_UTAD': 1},\n",
       " {'1': 23, '2': 7, '3': 1, '3.5': 1, '4': 8, '5': 2, '6': 2, '7': 16})"
      ]
     },
     "execution_count": 10,
     "metadata": {},
     "output_type": "execute_result"
    }
   ],
   "source": [
    "def indicadores():\n",
    "    regexp_usernum = r'^([^:]*)[ ]::[ ]'\n",
    "    prog_users = re.compile(regexp_usernum, re.MULTILINE)\n",
    "    quantos_users = len(re.findall(prog_users, read_data))\n",
    "    regexp_ent_num = r'^([^:]*[ ]::[ ]){2}([^:]*)'\n",
    "    prog_ents = re.compile(regexp_ent_num, re.MULTILINE)\n",
    "    quantas_ents = len({ e for _, e in re.findall(prog_ents, read_data)})\n",
    "    dic_eu = entidade_e_users()\n",
    "    dic_nu = utilizadores_por_nivel()\n",
    "\n",
    "    return quantos_users, quantas_ents, dic_eu, dic_nu\n",
    "\n",
    "indicadores()"
   ]
  },
  {
   "cell_type": "markdown",
   "metadata": {},
   "source": [
    "---"
   ]
  },
  {
   "cell_type": "markdown",
   "metadata": {},
   "source": [
    "#### Alínea 6"
   ]
  },
  {
   "cell_type": "markdown",
   "metadata": {},
   "source": [
    "As funções abaixo são usadas para a última alínea do projeto 3, que é imprimir um número de registos do ficheiro Clav num novo ficheiro em formato JSON."
   ]
  },
  {
   "cell_type": "code",
   "execution_count": 11,
   "metadata": {},
   "outputs": [],
   "source": [
    "def dict_transform(attr_list):\n",
    "    attr_name = [\"nome\", \"email\", \"entidade\", \"nivel\", \"backend_calls\"]\n",
    "    attr_num = len(attr_name)\n",
    "    attr_json = dict()\n",
    "    for i in range(attr_num):\n",
    "        attr_json[attr_name[i]] = attr_list[i]\n",
    "    return attr_json"
   ]
  },
  {
   "cell_type": "markdown",
   "metadata": {},
   "source": [
    "Note-se o uso do módulo `json`, e de `re.split` duas vezes:\n",
    "* a primeira `\"\\n+\"` para separar as linhas pretendidas\n",
    "* a segunda com `r'[ ]?::[ ]?'` para separar cada linha nos campos que a compões"
   ]
  },
  {
   "cell_type": "code",
   "execution_count": 12,
   "metadata": {},
   "outputs": [
    {
     "name": "stdout",
     "output_type": "stream",
     "text": [
      "Dados JSON escritos com sucesso no ficheiro.\n",
      "[\n",
      "    {\n",
      "        \"nome\": \"\\u00c9lia Cristina Viegas Pedro\",\n",
      "        \"email\": \"epedro@ccdr-alg.pt\",\n",
      "        \"entidade\": \"ent_CCDR-Alg\",\n",
      "        \"nivel\": \"1\",\n",
      "        \"backend_calls\": \"0\"\n",
      "    },\n",
      "    {\n",
      "        \"nome\": \"Forma\\u00e7\\u00e3o DGLAB\",\n",
      "        \"email\": \"lurdes.almeida@dglab.gov.pt\",\n",
      "        \"entidade\": \"ent_DGLAB\",\n",
      "        \"nivel\": \"3.5\",\n",
      "        \"backend_calls\": \"0\"\n",
      "    },\n",
      "    {\n",
      "        \"nome\": \"Nuno Filipe Casas Novas\",\n",
      "        \"email\": \"nuno.novas@ccdr-lvt.pt\",\n",
      "        \"entidade\": \"ent_CCDR-LVT\",\n",
      "        \"nivel\": \"1\",\n",
      "        \"backend_calls\": \"0\"\n",
      "    },\n",
      "    {\n",
      "        \"nome\": \"S\\u00f3nia Patr\\u00edcia Pinheiro Reis\",\n",
      "        \"email\": \"sonia.reis@icnf.pt\",\n",
      "        \"entidade\": \"ent_ICNF\",\n",
      "        \"nivel\": \"1\",\n",
      "        \"backend_calls\": \"0\"\n",
      "    },\n",
      "    {\n",
      "        \"nome\": \"S\\u00f3nia Isabel Ferreira Gon\\u00e7alves Negr\\u00e3o\",\n",
      "        \"email\": \"sonia.negrao@cm-albufeira.pt\",\n",
      "        \"entidade\": \"ent_CMABF\",\n",
      "        \"nivel\": \"1\",\n",
      "        \"backend_calls\": \"0\"\n",
      "    },\n",
      "    {\n",
      "        \"nome\": \"Filipe Ferreira Cardoso Leit\\u00e3o\",\n",
      "        \"email\": \"arquivo@cm-spsul.pt\",\n",
      "        \"entidade\": \"ent_CMSPS\",\n",
      "        \"nivel\": \"1\",\n",
      "        \"backend_calls\": \"0\"\n",
      "    },\n",
      "    {\n",
      "        \"nome\": \"Ana L\\u00facia Cabrita Guerreiro\",\n",
      "        \"email\": \"alucia@ccdr-alg.pt\",\n",
      "        \"entidade\": \"ent_CCDR-Alg\",\n",
      "        \"nivel\": \"1\",\n",
      "        \"backend_calls\": \"0\"\n",
      "    },\n",
      "    {\n",
      "        \"nome\": \"Alda do Carmo Namora Soares de Andrade\",\n",
      "        \"email\": \"aandrade@letras.ulisboa.pt\",\n",
      "        \"entidade\": \"ent_FLUL\",\n",
      "        \"nivel\": \"1\",\n",
      "        \"backend_calls\": \"0\"\n",
      "    },\n",
      "    {\n",
      "        \"nome\": \"Ricardo Almeida\",\n",
      "        \"email\": \"ricardo.almeida@dgeg.gov.pt\",\n",
      "        \"entidade\": \"ent_DGEG\",\n",
      "        \"nivel\": \"1\",\n",
      "        \"backend_calls\": \"0\"\n",
      "    },\n",
      "    {\n",
      "        \"nome\": \"Sandra Cristina Patr\\u00edcio da Silva\",\n",
      "        \"email\": \"spatricio@mun-sines.pt\",\n",
      "        \"entidade\": \"ent_CMSNS\",\n",
      "        \"nivel\": \"1\",\n",
      "        \"backend_calls\": \"0\"\n",
      "    },\n",
      "    {\n",
      "        \"nome\": \"C\\u00e1tia Jo\\u00e3o Matias Trindade\",\n",
      "        \"email\": \"catia.trindade@dglab.gov.pt\",\n",
      "        \"entidade\": \"ent_DGLAB\",\n",
      "        \"nivel\": \"4\",\n",
      "        \"backend_calls\": \"0\"\n",
      "    },\n",
      "    {\n",
      "        \"nome\": \"Ricardo Canela\",\n",
      "        \"email\": \"tyty@tyty.pt\",\n",
      "        \"entidade\": \"ent_BdP\",\n",
      "        \"nivel\": \"3\",\n",
      "        \"backend_calls\": \"0\"\n",
      "    },\n",
      "    {\n",
      "        \"nome\": \"C\\u00e1tia Trindade\",\n",
      "        \"email\": \"matiasjcatia@gmail.com\",\n",
      "        \"entidade\": \"ent_DGLAB\",\n",
      "        \"nivel\": \"4\",\n",
      "        \"backend_calls\": \"0\"\n",
      "    },\n",
      "    {\n",
      "        \"nome\": \"Miguel Ferreira\",\n",
      "        \"email\": \"mferreira@keep.pt\",\n",
      "        \"entidade\": \"ent_KEEP\",\n",
      "        \"nivel\": \"7\",\n",
      "        \"backend_calls\": \"0\"\n",
      "    },\n",
      "    {\n",
      "        \"nome\": \"Fernando Manuel Antunes Marques da Silva\",\n",
      "        \"email\": \"fernando.marques.silva@marinha.pt\",\n",
      "        \"entidade\": \"ent_STI-M\",\n",
      "        \"nivel\": \"1\",\n",
      "        \"backend_calls\": \"0\"\n",
      "    },\n",
      "    {\n",
      "        \"nome\": \"Ana Maria Teixeira Gaspar\",\n",
      "        \"email\": \"ana.gaspar@sgmf.gov.pt\",\n",
      "        \"entidade\": \"ent_SGMF\",\n",
      "        \"nivel\": \"1\",\n",
      "        \"backend_calls\": \"0\"\n",
      "    },\n",
      "    {\n",
      "        \"nome\": \"Maria Matos de Almeida Talhada Correia\",\n",
      "        \"email\": \"MariaMatos.Correia@icnf.pt\",\n",
      "        \"entidade\": \"ent_ICNF\",\n",
      "        \"nivel\": \"1\",\n",
      "        \"backend_calls\": \"0\"\n",
      "    },\n",
      "    {\n",
      "        \"nome\": \"C\\u00e1rmen Isabel Amador Francisco\",\n",
      "        \"email\": \"carmem@mun-sines.pt\",\n",
      "        \"entidade\": \"ent_CMSNS\",\n",
      "        \"nivel\": \"1\",\n",
      "        \"backend_calls\": \"0\"\n",
      "    },\n",
      "    {\n",
      "        \"nome\": \"Maria Leonor da Concei\\u00e7\\u00e3o Fresco Franco\",\n",
      "        \"email\": \"leonor.mina@ccdr-lvt.pt\",\n",
      "        \"entidade\": \"ent_CCDR-LVT\",\n",
      "        \"nivel\": \"1\",\n",
      "        \"backend_calls\": \"0\"\n",
      "    },\n",
      "    {\n",
      "        \"nome\": \"Maria Rita Gago\",\n",
      "        \"email\": \"m-rita.gago@dglab.gov.pt\",\n",
      "        \"entidade\": \"ent_DGLAB\",\n",
      "        \"nivel\": \"6\",\n",
      "        \"backend_calls\": \"3\"\n",
      "    }\n",
      "]\n"
     ]
    }
   ],
   "source": [
    "def vinte_JSON(n = 20, prnt = False):\n",
    "    # quantos utilizadores escrever no ficheiro JSON\n",
    "    entries = re.split(\"\\n+\", read_data, maxsplit=n)\n",
    "    # Só queremos os 20 primeiros resultados.\n",
    "    entries = entries[:n]\n",
    "    split_entries = [re.split(r'[ ]?::[ ]?', entry) for entry in entries]\n",
    "\n",
    "    json_data = [dict_transform(split_entry) for split_entry in split_entries]\n",
    "    filename = 'data.json'\n",
    "    pathname = os.path.join(os.path.join(os.getcwd()), filename)\n",
    "    import json\n",
    "    with open(pathname, 'w+', encoding='utf-8') as f:\n",
    "        json.dump(json_data, f, ensure_ascii=False, indent=4)\n",
    "    if prnt:\n",
    "        print(\"Dados JSON escritos com sucesso no ficheiro.\")\n",
    "        print(json.dumps(json_data, indent=4))\n",
    "\n",
    "vinte_JSON(prnt = True)"
   ]
  },
  {
   "cell_type": "markdown",
   "metadata": {},
   "source": [
    "---"
   ]
  },
  {
   "cell_type": "markdown",
   "metadata": {},
   "source": [
    "### Execução do programa"
   ]
  },
  {
   "cell_type": "code",
   "execution_count": 13,
   "metadata": {},
   "outputs": [],
   "source": [
    "prompt = '\\nEscolha a opção que pretende:\\n' \\\n",
    "    '    1: Imprimir listagem com nome e entidade, ordenada alfabeticamente por nome.\\n' \\\n",
    "    '    2: Imprimir lista ordenada alfabeticamente das entidades referenciadas, indicando, para cada uma, quantos utilizadores estão registados.\\n' \\\n",
    "    '    3: Imprimir distribuição de utilizadores por níveis de acesso.\\n' \\\n",
    "    '    4: Imprimir listagem dos utilizadores, agrupados por entidade, ordenada primeiro pela entidade e dentro desta pelo nome.\\n' \\\n",
    "    '    5: Imprime:\\n' \\\n",
    "    '         a. Quantos utilizadores há.\\n' \\\n",
    "    '         b. Quantas entidades há.\\n' \\\n",
    "    '         c. A distribuição em número por entidade.\\n' \\\n",
    "    '         d. A distribuição em número por nível.\\n' \\\n",
    "    '    6: Coloca as n primeiras entradas num ficheiro JSON.\\n' \\\n",
    "    '    String vazia: sair do programa.\\n'"
   ]
  },
  {
   "cell_type": "code",
   "execution_count": 14,
   "metadata": {},
   "outputs": [],
   "source": [
    "def main():\n",
    "    inputFromUser = input(prompt)\n",
    "    def print_nomes_e_ents(list):\n",
    "            for (name, ent) in list:\n",
    "                print (name + \" :: \" + ent)\n",
    "    def print_user_level_dict(dic):\n",
    "        for num, users in dic.items():\n",
    "            print(num + \": \" + str(users) + \" ocorrências.\")\n",
    "    def print_entity_user_dic(dic):\n",
    "        for e, n in dic.items():\n",
    "            print(e + \": \" + str(n) + \" ocorrências.\")\n",
    "    while inputFromUser != \"\":\n",
    "        match inputFromUser:\n",
    "            case '1':\n",
    "                l = nome_e_ent()\n",
    "                print_nomes_e_ents(l)\n",
    "            case '2':\n",
    "                dic = entidade_e_users()\n",
    "                print_entity_user_dic(dic)\n",
    "            case '3':\n",
    "                nivel_e_user = utilizadores_por_nivel()\n",
    "                print_user_level_dict(nivel_e_user)\n",
    "            case '4':\n",
    "                group_users_by_ent()\n",
    "            case '5':\n",
    "                quantos_users, quantas_ents, dic_eu, dic_nu = indicadores()\n",
    "                print(\"O sistema tem {} utilizadores.\".format(quantos_users))\n",
    "                print(\"O sistema tem {} entidades.\".format(quantas_ents))\n",
    "                print(\"\\n\\nDistribuição em número de entidades:\")\n",
    "                print_entity_user_dic(dic_eu)\n",
    "                print(\"\\n\\nDistribuição em número por nível.\")\n",
    "                print_user_level_dict(dic_nu)\n",
    "            case '6':\n",
    "                print(\"Insira o número de entradas a escrever em JSON.\")\n",
    "                n = int(input())\n",
    "                vinte_JSON(n)\n",
    "            case '':\n",
    "                return\n",
    "            case _:\n",
    "                print (\"\\nTente novamente.\\n\")\n",
    "        inputFromUser = input(prompt)"
   ]
  },
  {
   "cell_type": "code",
   "execution_count": 15,
   "metadata": {},
   "outputs": [],
   "source": [
    "if __name__ == \"__main__\":\n",
    "    main()"
   ]
  },
  {
   "cell_type": "markdown",
   "metadata": {},
   "source": [
    "---"
   ]
  },
  {
   "cell_type": "markdown",
   "metadata": {},
   "source": [
    "### Filtros extra"
   ]
  },
  {
   "cell_type": "markdown",
   "metadata": {},
   "source": [
    "Aqui recalculam-se os indicadores da Alínea 6, usando a ER `r'^([^:]+)[ ]::[ ]([^:]+)[ ]::[ ]([^:]+)[ ]::[ ]([^:]+)[ ]::[ ]([^:]+)$'` que captura todos os grupos de um utilizador."
   ]
  },
  {
   "cell_type": "code",
   "execution_count": 16,
   "metadata": {},
   "outputs": [
    {
     "data": {
      "text/plain": [
       "(60,\n",
       " 22,\n",
       " {'ent_A3ES': 14,\n",
       "  'ent_AAN': 2,\n",
       "  'ent_ACSS': 1,\n",
       "  'ent_APA': 1,\n",
       "  'ent_BdP': 1,\n",
       "  'ent_CCDR-Alg': 2,\n",
       "  'ent_CCDR-LVT': 2,\n",
       "  'ent_CMABF': 1,\n",
       "  'ent_CMSNS': 2,\n",
       "  'ent_CMSPS': 1,\n",
       "  'ent_DGEG': 1,\n",
       "  'ent_DGLAB': 16,\n",
       "  'ent_FLUL': 1,\n",
       "  'ent_ICNF': 2,\n",
       "  'ent_IEFP': 3,\n",
       "  'ent_II': 1,\n",
       "  'ent_KEEP': 3,\n",
       "  'ent_LNEC': 1,\n",
       "  'ent_MdP': 1,\n",
       "  'ent_SGMF': 2,\n",
       "  'ent_STI-M': 1,\n",
       "  'ent_UTAD': 1},\n",
       " {'1': 23, '2': 7, '3': 1, '3.5': 1, '4': 8, '5': 2, '6': 2, '7': 16})"
      ]
     },
     "execution_count": 16,
     "metadata": {},
     "output_type": "execute_result"
    }
   ],
   "source": [
    "def indicadores_2():\n",
    "    all_fields_regexp = r'^([^:]+)[ ]::[ ]([^:]+)[ ]::[ ]([^:]+)[ ]::[ ]([^:]+)[ ]::[ ]([^:]+)$'\n",
    "    all_fields = re.compile(all_fields_regexp, re.MULTILINE)\n",
    "    lst = re.findall(all_fields, read_data)\n",
    "    quantos_users = len(lst)\n",
    "    quantas_ents = len({ent for _, _, ent, _, _ in lst})\n",
    "\n",
    "    dic_ent = dict()\n",
    "    for ent in sorted([e for _, _, e, _, _ in lst], key = collator.getSortKey):\n",
    "        if ent not in dic_ent.keys():\n",
    "            dic_ent[ent] = 1\n",
    "        else:\n",
    "            dic_ent[ent] += 1\n",
    "\n",
    "    nivel_e_user = dict()\n",
    "    for _, num in sorted([(user, lvl) for user, _, _, lvl, _ in lst], key = lambda tup: float(tup[1])):\n",
    "        if num not in nivel_e_user.keys():\n",
    "            nivel_e_user[num] = 1\n",
    "        else:\n",
    "            nivel_e_user[num] += 1\n",
    "    \n",
    "    return quantos_users, quantas_ents, dic_ent, nivel_e_user\n",
    "\n",
    "indicadores_2()"
   ]
  }
 ],
 "metadata": {
  "interpreter": {
   "hash": "aee8b7b246df8f9039afb4144a1f6fd8d2ca17a180786b69acc140d282b71a49"
  },
  "kernelspec": {
   "display_name": "Python 3 (ipykernel)",
   "language": "python",
   "name": "python3"
  },
  "language_info": {
   "codemirror_mode": {
    "name": "ipython",
    "version": 3
   },
   "file_extension": ".py",
   "mimetype": "text/x-python",
   "name": "python",
   "nbconvert_exporter": "python",
   "pygments_lexer": "ipython3",
   "version": "3.10.0"
  }
 },
 "nbformat": 4,
 "nbformat_minor": 2
}
