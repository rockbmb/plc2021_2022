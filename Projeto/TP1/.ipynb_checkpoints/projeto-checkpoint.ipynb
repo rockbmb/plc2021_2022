{
 "cells": [
  {
   "cell_type": "markdown",
   "metadata": {},
   "source": [
    "# Processamento de Linguagens 2021/2022"
   ]
  },
  {
   "cell_type": "markdown",
   "metadata": {},
   "source": [
    "## Licenciatura em Ciências da Computação"
   ]
  },
  {
   "cell_type": "markdown",
   "metadata": {},
   "source": [
    "## Trabalho Prático nº 1: Processador de Utilizadores registados no sistema Clav"
   ]
  },
  {
   "cell_type": "markdown",
   "metadata": {},
   "source": [
    "### Grupo 3\n",
    "\n",
    "Alexandre Rodrigues Balde (A70373)\\\n",
    "Marco Alexandre Félix de Lima (A86030)"
   ]
  },
  {
   "cell_type": "markdown",
   "metadata": {},
   "source": [
    "---"
   ]
  },
  {
   "cell_type": "markdown",
   "metadata": {},
   "source": [
    "### Implementação e Relatório"
   ]
  },
  {
   "cell_type": "markdown",
   "metadata": {},
   "source": [
    "Como diz no enunciado:\n",
    "> N\"[...]o texto 'clav-users.txt' em que campos de informação têm a seguinte ordem: nome, email, entidade, nível, número de chamadas ao backend\n",
    "\n",
    "Assume-se que:\n",
    "* cada linha do ficheiro está no seguinte formato: `{nome} :: {email} :: {entidade} :: {nivel} :: {backend_calls}`\n",
    "* cada um dos campos acima é **não opcional** i.e. pode estar em branco mas têm todos que contabilizar `5`.\n",
    "* entre cada um dos `5` campos há necessariamente a string `\" :: \"`, ou seja, há 4 ocorrências de `\" :: \"` em cada linha."
   ]
  },
  {
   "cell_type": "code",
   "execution_count": 2,
   "metadata": {},
   "outputs": [],
   "source": [
    "import re\n",
    "import os\n",
    "import icu"
   ]
  },
  {
   "cell_type": "markdown",
   "metadata": {},
   "source": [
    "Para se obter o `path` do ficheiro `clav-users.txt` - que tem a informação que se pretende processar dos utilizadores do sistema `clav` - usam-se as funções do módulo `os`."
   ]
  },
  {
   "cell_type": "code",
   "execution_count": 3,
   "metadata": {},
   "outputs": [],
   "source": [
    "ficheiro = 'clav-users.txt'\n",
    "\n",
    "def find_data_file(filename):\n",
    "    datadir = os.path.join(os.getcwd())\n",
    "    return os.path.join(datadir, filename)\n",
    "\n",
    "clav_file = find_data_file(ficheiro)"
   ]
  },
  {
   "cell_type": "markdown",
   "metadata": {},
   "source": [
    "#### PyICU\n",
    "\n",
    "Algumas das questões pedem ordenação alfabética.\\\n",
    "Para tal, faz-se uso do módulo `PyICU` do Python para lidar com strings Unicode.\\\n",
    "Permite e.g. fazer `sort` de strings `UTF-8` sem ter que modificá-las para retirar diacríticos ou acentos."
   ]
  },
  {
   "cell_type": "code",
   "execution_count": 4,
   "metadata": {},
   "outputs": [],
   "source": [
    "collator = icu.Collator.createInstance(icu.Locale('pt_PT.UTF-8'))"
   ]
  },
  {
   "cell_type": "markdown",
   "metadata": {},
   "source": [
    "---"
   ]
  },
  {
   "cell_type": "markdown",
   "metadata": {},
   "source": [
    "### Detalhes da Implementação"
   ]
  },
  {
   "cell_type": "markdown",
   "metadata": {},
   "source": [
    "Considere-se uma linha qualquer do ficheiro Clav que pretendemos processar.\n",
    "> `Madalena Ribeiro :: madalena.ribeiro07@gmail.com :: ent_DGLAB :: 4 :: 2`\n",
    "\n",
    "Há alíneas diferentes que pedem para recolher listas com os mesmos elementos de cada utilizador, mas estruturadas de forma diferente.\n",
    "Como essas tarefas só diferem na parte da manipulação de dados e não na filtragem, para evitar repetição criou-se a ER abaixo."
   ]
  },
  {
   "cell_type": "markdown",
   "metadata": {},
   "source": [
    "---"
   ]
  },
  {
   "cell_type": "markdown",
   "metadata": {},
   "source": [
    "A seguinte ER é usada para capturar nomes e entidades em cada uma das linhas do ficheiro lido.\\\n",
    "Só tem dois grupos - um para o nome, o outro para a entidade.\n",
    "\n",
    "Ao longo do projeto usar-se-á `'[^:]+'` para capturar os campos em cada linha - é importante referir que só resultará se **nenhum** dos campos tiver o caracter `':'`, que é o que se assume nesta implementação."
   ]
  },
  {
   "cell_type": "code",
   "execution_count": 5,
   "metadata": {},
   "outputs": [],
   "source": [
    "nome_e_entidade = r'^([^:]+)[ ]::[ ][^:]*[ ]::[ ]([^:]*)[ ]::[ ]'\n",
    "name_ent_regexep = re.compile(nome_e_entidade, re.MULTILINE)"
   ]
  },
  {
   "cell_type": "markdown",
   "metadata": {},
   "source": [
    "#### Notas\n",
    "\n",
    "#### 1\n",
    "\n",
    "Veja-se acima o uso da função [`re.compile`](https://docs.python.org/3/library/re.html#re.compile) para transformar uma expressão regular num [Regular Expression Object](https://docs.python.org/3/library/re.html#regular-expression-objects).\\\n",
    "Isto tem vários benefícios, mas aquele que interessa neste caso é poder passar à função `re.compile` flags que regem o comportamento da expressão regular.\\\n",
    "Aqui, usa-se a flag [`re.MULTILINE`](https://docs.python.org/3/library/re.html#re.MULTILINE).\\\n",
    "É então possível usar o símbolo `'^'` para dar \"match\" não só ao início da string - que seria o seu único uso sem esta flag - como também a cada linha (imediatamente após cada `'\\n'`).\n",
    "  \n",
    "  \n",
    "Sabemos que `clav-users.txt` tem um utilizador por linha, no formato descrito acima.\\\n",
    "A resolução deste projeto passa então por estruturar expressões regulares que trabalhem sobre uma única linha, e aplicá-las a todas as linhas através da técnica descrita.\n",
    "\n",
    "---\n",
    "\n",
    "#### 2\n",
    "\n",
    "Note-se que poderia ter-se utilizado uma ER como\n",
    "\n",
    "```r'^([^:]+)[ ]::[ ]([^:]+)[ ]::[ ]([^:]+)[ ]::[ ]([^:]+)[ ]::[ ]([^:]+)'```\n",
    "\n",
    "para capturar todos os campos de informação em grupos separados, mas isso significaria guardar forçosamente resultados de pesquisa irrelevantes para um dado propósito.\\\n",
    "Por exemplo, querendo-se o nome e a entidade como na primeira alínea, estar-se-ia a guardar todos os outros campos para todos os utilizadores.\\\n",
    "Neste exemplo simples de dimensões reduzidas não há problema, mas seria oneroso fazê-lo num ficheiro com $O(10^6)$ linhas.\n",
    "\n",
    "Em alternativa, poder-se-ia fazer o processamento do ficheiro com esta ER uma só vez, mas novamente - haveria a necessidade de guardar toda\\\n",
    "a informação lida para uso posterior, o que não será comportável se o ficheiro for grande.\n",
    "\n",
    "Assim sendo, decidiu-se usar um ER para cada caso do enunciado, havendo reutilização só quando ela não acarreta ERs que produzam grupos não diretamente relacionados com a pesquisa em causa.\n",
    "\n",
    "Neste caso, há mais que uma alínea que pede **apenas** nomes e entidades de utilizador, mas organizados de forma diferente.\\\n",
    "Logo, esta ER pode ser usada nesses caso para filtrar nomes e entidades, sendo o procecssamento feito no resto da função, que já não pode ser comum."
   ]
  },
  {
   "cell_type": "markdown",
   "metadata": {},
   "source": [
    "---"
   ]
  },
  {
   "cell_type": "markdown",
   "metadata": {},
   "source": [
    "A variável `read_data` terá o conteúdo do ficheiro `clav-users.txt`.\\\n",
    "Isto permite que o ficheiro seja lido uma só vez durante a execução completa do programa.\\\n",
    "Aqui tem-se em conta a dimensão reduzida do ficheiro, caso contrário seria melhor lê-lo por segmentos."
   ]
  },
  {
   "cell_type": "code",
   "execution_count": 6,
   "metadata": {},
   "outputs": [],
   "source": [
    "clav = open(clav_file, r'r', encoding=\"utf-8\")\n",
    "read_data = clav.read()"
   ]
  },
  {
   "cell_type": "markdown",
   "metadata": {},
   "source": [
    "---"
   ]
  },
  {
   "cell_type": "markdown",
   "metadata": {},
   "source": [
    "#### Alínea 1"
   ]
  },
  {
   "cell_type": "markdown",
   "metadata": {},
   "source": [
    "A função abaixo produz uma lista de pares de strings.\\\n",
    "A primeira componente é o nome do utilizador no sistema, e a segunda é a sua entidade.\\\n",
    "Os pares estão ordenados alfabeticamente pela primeira componente, ou seja, pelo nome dos utilizadores."
   ]
  },
  {
   "cell_type": "code",
   "execution_count": 7,
   "metadata": {},
   "outputs": [],
   "source": [
    "def nome_e_ent():\n",
    "    unicode_string_key = lambda tup: collator.getSortKey(tup[0])\n",
    "    regexp_results = re.findall(name_ent_regexep, read_data)\n",
    "    return sorted([(match[0], match[1]) for match in regexp_results], key = unicode_string_key)"
   ]
  },
  {
   "cell_type": "markdown",
   "metadata": {},
   "source": [
    "---"
   ]
  },
  {
   "cell_type": "markdown",
   "metadata": {},
   "source": [
    "#### Alínea 2"
   ]
  },
  {
   "cell_type": "markdown",
   "metadata": {},
   "source": [
    "A função abaixo produz um dicionário cujas chaves são entidades presentes no ficheiro (ordenadas alfabeticamente) e cujos valores são o número de utilizadores registados em cada entidade."
   ]
  },
  {
   "cell_type": "code",
   "execution_count": 8,
   "metadata": {},
   "outputs": [],
   "source": [
    "def entidade_e_users():\n",
    "    regexp = r'^[^:]+[ ]::[ ][^:]*[ ]::[ ]([^:]*)[ ]::[ ]'\n",
    "    prog = re.compile(regexp, re.MULTILINE)\n",
    "    dic = dict()\n",
    "    for ent in sorted(re.findall(prog, read_data), key = collator.getSortKey):\n",
    "        if ent not in dic.keys():\n",
    "            dic[ent] = 1\n",
    "        else:\n",
    "            dic[ent] += 1\n",
    "    return dic"
   ]
  },
  {
   "cell_type": "markdown",
   "metadata": {},
   "source": [
    "---"
   ]
  },
  {
   "cell_type": "markdown",
   "metadata": {},
   "source": [
    "#### Alínea 3"
   ]
  },
  {
   "cell_type": "markdown",
   "metadata": {},
   "source": [
    "A função abaixo produz um dicionário cujas chaves são os diferentes níveis de acesso presentes no ficheiro `clav-users.txt` e cujos valores são o número de utilizadores registados com esse nível.  \n",
    "\n",
    "A expressão regular usada para obter o nome do utilizadores é `r'^([^:]*[ ]::[ ]){3}([0-9\\.]+)'` - vêm primeiro os 3 campos iniciais, e só o quarto será o nível desse utilizador.  \n",
    "\n",
    "Usar parênteses em (`r'^([^:]*[ ]::[ ]){3}`) faz com que a primeira aplicação da ER `r'^([^:]*[ ]::[ ])` seja guardada num grupo - será o nome do utilizador seguido de `' :: '`, neste caso.  \n",
    "Nesta alínea não se buscam os nomes dos utilizadores, mas é necessário rodear a ER por parênteses para poder aplicar o operador de repetição para se chegar ao campo que interessa: `'{3}'`.\n"
   ]
  },
  {
   "cell_type": "code",
   "execution_count": 24,
   "metadata": {},
   "outputs": [
    {
     "data": {
      "text/plain": [
       "[('ent_CCDR-Alg :: ', '1'),\n",
       " ('ent_DGLAB :: ', '3.5'),\n",
       " ('ent_CCDR-LVT :: ', '1'),\n",
       " ('ent_ICNF :: ', '1'),\n",
       " ('ent_CMABF :: ', '1'),\n",
       " ('ent_CMSPS :: ', '1'),\n",
       " ('ent_CCDR-Alg :: ', '1'),\n",
       " ('ent_FLUL :: ', '1'),\n",
       " ('ent_DGEG :: ', '1'),\n",
       " ('ent_CMSNS :: ', '1'),\n",
       " ('ent_DGLAB :: ', '4'),\n",
       " ('ent_BdP :: ', '3'),\n",
       " ('ent_DGLAB :: ', '4'),\n",
       " ('ent_KEEP :: ', '7'),\n",
       " ('ent_STI-M :: ', '1'),\n",
       " ('ent_SGMF :: ', '1'),\n",
       " ('ent_ICNF :: ', '1'),\n",
       " ('ent_CMSNS :: ', '1'),\n",
       " ('ent_CCDR-LVT :: ', '1'),\n",
       " ('ent_DGLAB :: ', '6'),\n",
       " ('ent_A3ES :: ', '7'),\n",
       " ('ent_SGMF :: ', '1'),\n",
       " ('ent_APA :: ', '1'),\n",
       " ('ent_MdP :: ', '1'),\n",
       " ('ent_DGLAB :: ', '7'),\n",
       " ('ent_II :: ', '7'),\n",
       " ('ent_DGLAB :: ', '4'),\n",
       " ('ent_DGLAB :: ', '4'),\n",
       " ('ent_DGLAB :: ', '6'),\n",
       " ('ent_DGLAB :: ', '4'),\n",
       " ('ent_ACSS :: ', '7'),\n",
       " ('ent_DGLAB :: ', '5'),\n",
       " ('ent_DGLAB :: ', '4'),\n",
       " ('ent_A3ES :: ', '7'),\n",
       " ('ent_A3ES :: ', '2'),\n",
       " ('ent_A3ES :: ', '7'),\n",
       " ('ent_DGLAB :: ', '5'),\n",
       " ('ent_DGLAB :: ', '7'),\n",
       " ('ent_A3ES :: ', '7'),\n",
       " ('ent_DGLAB :: ', '4'),\n",
       " ('ent_A3ES :: ', '7'),\n",
       " ('ent_KEEP :: ', '7'),\n",
       " ('ent_A3ES :: ', '7'),\n",
       " ('ent_LNEC :: ', '1'),\n",
       " ('ent_A3ES :: ', '7'),\n",
       " ('ent_AAN :: ', '1'),\n",
       " ('ent_A3ES :: ', '7'),\n",
       " ('ent_DGLAB :: ', '4'),\n",
       " ('ent_AAN :: ', '1'),\n",
       " ('ent_DGLAB :: ', '7'),\n",
       " ('ent_A3ES :: ', '1'),\n",
       " ('ent_KEEP :: ', '7'),\n",
       " ('ent_UTAD :: ', '1'),\n",
       " ('ent_A3ES :: ', '2'),\n",
       " ('ent_A3ES :: ', '2'),\n",
       " ('ent_A3ES :: ', '2'),\n",
       " ('ent_A3ES :: ', '1'),\n",
       " ('ent_IEFP :: ', '2'),\n",
       " ('ent_IEFP :: ', '2'),\n",
       " ('ent_IEFP :: ', '2')]"
      ]
     },
     "execution_count": 24,
     "metadata": {},
     "output_type": "execute_result"
    }
   ],
   "source": [
    "def utilizadores_por_nivel():\n",
    "    nivel_e_user = dict()\n",
    "    regexp = r'^([^:]*[ ]::[ ]){3}([0-9\\.]+)'\n",
    "    prog = re.compile(regexp, re.MULTILINE)\n",
    "    for _, num in sorted(re.findall(prog, read_data), key = lambda tup: float(tup[1])):\n",
    "        if num not in nivel_e_user.keys():\n",
    "            nivel_e_user[num] = 1\n",
    "        else:\n",
    "            nivel_e_user[num] += 1\n",
    "    return nivel_e_user\n",
    "\n",
    "regexp = r'^([^:]*[ ]::[ ]){3}([0-9\\.]+)'\n",
    "prog = re.compile(regexp, re.MULTILINE)\n",
    "re.findall(prog, read_data)"
   ]
  },
  {
   "cell_type": "markdown",
   "metadata": {},
   "source": [
    "---"
   ]
  },
  {
   "cell_type": "markdown",
   "metadata": {},
   "source": [
    "#### Alínea 4"
   ]
  },
  {
   "cell_type": "markdown",
   "metadata": {},
   "source": [
    "A função seguinte devolve, a partir dos dados lidos, um dicionário com entidades como chaves, e a lista de utilizadores a ela associados como valores.\\\n",
    "As chaves do dicionário, e as listas que são os seus valores estão ordenados alfabeticamente por ordem crescente."
   ]
  },
  {
   "cell_type": "code",
   "execution_count": 10,
   "metadata": {},
   "outputs": [],
   "source": [
    "def group_users_by_ent():\n",
    "    unicode_string_tup_key = lambda tup: (collator.getSortKey(tup[0]), collator.getSortKey(tup[1]))\n",
    "    l = sorted([(m[1], m[0]) for m in re.findall(name_ent_regexep, read_data)], key = unicode_string_tup_key)\n",
    "\n",
    "    from itertools import groupby\n",
    "    dic = {}\n",
    "    for key, group in groupby(l,  lambda x: x[0]):\n",
    "        dic[key] = []\n",
    "        for _, name in group:\n",
    "            dic[key].append(name)\n",
    "    for k in dic.keys():\n",
    "        print(k + \": \")\n",
    "        for v in dic[k]:\n",
    "            print(\"    \" + v)"
   ]
  },
  {
   "cell_type": "markdown",
   "metadata": {},
   "source": [
    "---"
   ]
  },
  {
   "cell_type": "markdown",
   "metadata": {},
   "source": [
    "#### Alínea 5"
   ]
  },
  {
   "cell_type": "markdown",
   "metadata": {},
   "source": [
    "A seguinte função devolve os indicadores pedidos no ponto 5. do enunciado do projeto 3.\\\n",
    "São:\n",
    "- O número de utilizadores do sistema\n",
    "- O número de entidades no sistema\n",
    "- A distribuição em número no sistema\n",
    "- A distribuição em número por nível"
   ]
  },
  {
   "cell_type": "code",
   "execution_count": 20,
   "metadata": {},
   "outputs": [
    {
     "data": {
      "text/plain": [
       "[('epedro@ccdr-alg.pt :: ', 'ent_CCDR-Alg '),\n",
       " ('lurdes.almeida@dglab.gov.pt :: ', 'ent_DGLAB '),\n",
       " ('nuno.novas@ccdr-lvt.pt :: ', 'ent_CCDR-LVT '),\n",
       " ('sonia.reis@icnf.pt :: ', 'ent_ICNF '),\n",
       " ('sonia.negrao@cm-albufeira.pt :: ', 'ent_CMABF '),\n",
       " ('arquivo@cm-spsul.pt :: ', 'ent_CMSPS '),\n",
       " ('alucia@ccdr-alg.pt :: ', 'ent_CCDR-Alg '),\n",
       " ('aandrade@letras.ulisboa.pt :: ', 'ent_FLUL '),\n",
       " ('ricardo.almeida@dgeg.gov.pt :: ', 'ent_DGEG '),\n",
       " ('spatricio@mun-sines.pt :: ', 'ent_CMSNS '),\n",
       " ('catia.trindade@dglab.gov.pt :: ', 'ent_DGLAB '),\n",
       " ('tyty@tyty.pt :: ', 'ent_BdP '),\n",
       " ('matiasjcatia@gmail.com :: ', 'ent_DGLAB '),\n",
       " ('mferreira@keep.pt :: ', 'ent_KEEP '),\n",
       " ('fernando.marques.silva@marinha.pt :: ', 'ent_STI-M '),\n",
       " ('ana.gaspar@sgmf.gov.pt :: ', 'ent_SGMF '),\n",
       " ('MariaMatos.Correia@icnf.pt :: ', 'ent_ICNF '),\n",
       " ('carmem@mun-sines.pt :: ', 'ent_CMSNS '),\n",
       " ('leonor.mina@ccdr-lvt.pt :: ', 'ent_CCDR-LVT '),\n",
       " ('m-rita.gago@dglab.gov.pt :: ', 'ent_DGLAB '),\n",
       " ('jcr@di.uminho.pt :: ', 'ent_A3ES '),\n",
       " ('Regina.Lopes@sgmf.gov.pt :: ', 'ent_SGMF '),\n",
       " ('joao.pereira@apambiente.pt :: ', 'ent_APA '),\n",
       " ('Antonio.brandao@metrodoporto.pt :: ', 'ent_MdP '),\n",
       " ('alexandra.lourenco@dglab.gov.pt :: ', 'ent_DGLAB '),\n",
       " ('pg38425@alunos.uminho.pt :: ', 'ent_II '),\n",
       " ('filipa.carvalho@dglab.gov.pt :: ', 'ent_DGLAB '),\n",
       " ('clara.viegas@dglab.gov.pt :: ', 'ent_DGLAB '),\n",
       " ('madalena.ribeiro@dglab.gov.pt :: ', 'ent_DGLAB '),\n",
       " ('zelia.gomes@dglab.gov.pt :: ', 'ent_DGLAB '),\n",
       " ('frederico21pinto@hotmail.com :: ', 'ent_ACSS '),\n",
       " ('pedro.penteado@dglab.gov.pt :: ', 'ent_DGLAB '),\n",
       " ('madalena.ribeiro07@gmail.com :: ', 'ent_DGLAB '),\n",
       " ('a73547@alunos.uminho.pt :: ', 'ent_A3ES '),\n",
       " ('octaviojmaia@gmail.com :: ', 'ent_A3ES '),\n",
       " ('a78821@alunos.uminho.pt :: ', 'ent_A3ES '),\n",
       " ('silvestre.lacerda@dglab.gov.pt :: ', 'ent_DGLAB '),\n",
       " ('a75536@alunos.uminho.pt :: ', 'ent_DGLAB '),\n",
       " ('A80874@alunos.uminho.pt :: ', 'ent_A3ES '),\n",
       " ('m-celeste.pereira@dglab.gov.pt :: ', 'ent_DGLAB '),\n",
       " ('a74036@alunos.uminho.pt :: ', 'ent_A3ES '),\n",
       " ('alex@keep.pt :: ', 'ent_KEEP '),\n",
       " ('A82324@alunos.uminho.pt :: ', 'ent_A3ES '),\n",
       " ('0.rffa.0@gmail.com :: ', 'ent_LNEC '),\n",
       " ('a74036@alunos.uminhopt :: ', 'ent_A3ES '),\n",
       " ('ruifilipearaujo@hotmail.com :: ', 'ent_AAN '),\n",
       " ('a63129@alunos.uminho.pt :: ', 'ent_A3ES '),\n",
       " ('m-jose.chaves@dglab.gov.pt :: ', 'ent_DGLAB '),\n",
       " ('jcm@live.com :: ', 'ent_AAN '),\n",
       " ('jcr@dglab.pt :: ', 'ent_DGLAB '),\n",
       " ('m-alexandra.lourenco@dglab.gov.pt :: ', 'ent_A3ES '),\n",
       " ('plima@keep.pt :: ', 'ent_KEEP '),\n",
       " ('acoutinh@utad.pt :: ', 'ent_UTAD '),\n",
       " ('leo.ramalho99@gmail.com :: ', 'ent_A3ES '),\n",
       " ('pri2020@teste.uminho.pt :: ', 'ent_A3ES '),\n",
       " ('daw2020@teste.uminho.pt :: ', 'ent_A3ES '),\n",
       " ('zzglider@gmail.com :: ', 'ent_A3ES '),\n",
       " ('cmatoso@ambisig.com :: ', 'ent_IEFP '),\n",
       " ('jbraga@ambisig.com :: ', 'ent_IEFP '),\n",
       " ('david.ferreira@ambisig.com :: ', 'ent_IEFP ')]"
      ]
     },
     "execution_count": 20,
     "metadata": {},
     "output_type": "execute_result"
    }
   ],
   "source": [
    "def indicadores():\n",
    "    regexp_usernum = r'^([^:]*)[ ]::[ ]'\n",
    "    prog_users = re.compile(regexp_usernum, re.MULTILINE)\n",
    "    quantos_users = len(re.findall(prog_users, read_data))\n",
    "    regexp_ent_num = r'^([^:]*[ ]::[ ]){2}([^:]*)'\n",
    "    prog_ents = re.compile(regexp_ent_num, re.MULTILINE)\n",
    "    quantas_ents = len({ e for _, e in re.findall(prog_ents, read_data)})\n",
    "    dic_eu = entidade_e_users()\n",
    "    dic_nu = utilizadores_por_nivel()\n",
    "\n",
    "    return quantos_users, quantas_ents, dic_eu, dic_nu\n",
    "\n",
    "regexp_ent_num = r'^([^:]*[ ]::[ ]){2}([^:]*)'\n",
    "prog_ents = re.compile(regexp_ent_num, re.MULTILINE)\n",
    "re.findall(prog_ents, read_data)"
   ]
  },
  {
   "cell_type": "markdown",
   "metadata": {},
   "source": [
    "---"
   ]
  },
  {
   "cell_type": "markdown",
   "metadata": {},
   "source": [
    "#### Alínea 6"
   ]
  },
  {
   "cell_type": "markdown",
   "metadata": {},
   "source": [
    "As funções abaixo são usadas para a última alínea do projeto 3, que é imprimir um número de registos do ficheiro Clav num novo ficheiro em formato JSON."
   ]
  },
  {
   "cell_type": "code",
   "execution_count": 12,
   "metadata": {},
   "outputs": [],
   "source": [
    "def dict_transform(attr_list):\n",
    "    attr_name = [\"nome\", \"email\", \"entidade\", \"nivel\", \"backend_calls\"]\n",
    "    attr_num = len(attr_name)\n",
    "    attr_json = dict()\n",
    "    for i in range(attr_num):\n",
    "        attr_json[attr_name[i]] = attr_list[i]\n",
    "    return attr_json"
   ]
  },
  {
   "cell_type": "markdown",
   "metadata": {},
   "source": [
    "Note-se o uso do módulo `json`."
   ]
  },
  {
   "cell_type": "code",
   "execution_count": 13,
   "metadata": {},
   "outputs": [],
   "source": [
    "def vinte_JSON(n = 20):\n",
    "    # quantos utilizadores escrever no ficheiro JSON\n",
    "    entries = re.split(\"\\n+\", read_data, maxsplit=n)\n",
    "    # Só queremos os 20 primeiros resultados.\n",
    "    entries = entries[:n]\n",
    "    split_entries = [re.split(r'[ ]?::[ ]?', entry) for entry in entries]\n",
    "\n",
    "    json_data = [dict_transform(split_entry) for split_entry in split_entries]\n",
    "    filename = 'data.json'\n",
    "    pathname = os.path.join(os.path.join(os.getcwd()), filename)\n",
    "    import json\n",
    "    with open(pathname, 'w+', encoding='utf-8') as f:\n",
    "        json.dump(json_data, f, ensure_ascii=False, indent=4)"
   ]
  },
  {
   "cell_type": "markdown",
   "metadata": {},
   "source": [
    "---"
   ]
  },
  {
   "cell_type": "markdown",
   "metadata": {},
   "source": [
    "### Execução do programa"
   ]
  },
  {
   "cell_type": "code",
   "execution_count": 14,
   "metadata": {},
   "outputs": [],
   "source": [
    "prompt = '\\nEscolha a opção que pretende:\\n' \\\n",
    "    '    1: Imprimir listagem com nome e entidade, ordenada alfabeticamente por nome.\\n' \\\n",
    "    '    2: Imprimir lista ordenada alfabeticamente das entidades referenciadas, indicando, para cada uma, quantos utilizadores estão registados.\\n' \\\n",
    "    '    3: Imprimir distribuição de utilizadores por níveis de acesso.\\n' \\\n",
    "    '    4: Imprimir listagem dos utilizadores, agrupados por entidade, ordenada primeiro pela entidade e dentro desta pelo nome.\\n' \\\n",
    "    '    5: Imprime:\\n' \\\n",
    "    '         a. Quantos utilizadores há.\\n' \\\n",
    "    '         b. Quantas entidades há.\\n' \\\n",
    "    '         c. A distribuição em número por entidade.\\n' \\\n",
    "    '         d. A distribuição em número por nível.\\n' \\\n",
    "    '    6: Coloca as n primeiras entradas num ficheiro JSON.\\n' \\\n",
    "    '    String vazia: sair do programa.\\n'"
   ]
  },
  {
   "cell_type": "code",
   "execution_count": 15,
   "metadata": {},
   "outputs": [],
   "source": [
    "def main():\n",
    "    inputFromUser = input(prompt)\n",
    "    def print_nomes_e_ents(list):\n",
    "            for (name, ent) in list:\n",
    "                print (name + \" :: \" + ent)\n",
    "    def print_user_level_dict(dic):\n",
    "        for num, users in dic.items():\n",
    "            print(num + \": \" + str(users) + \" ocorrências.\")\n",
    "    def print_entity_user_dic(dic):\n",
    "        for e, n in dic.items():\n",
    "            print(e + \": \" + str(n) + \" ocorrências.\")\n",
    "    while inputFromUser != \"\":\n",
    "        match inputFromUser:\n",
    "            case '1':\n",
    "                l = nome_e_ent()\n",
    "                print_nomes_e_ents(l)\n",
    "            case '2':\n",
    "                dic = entidade_e_users()\n",
    "                print_entity_user_dic(dic)\n",
    "            case '3':\n",
    "                nivel_e_user = utilizadores_por_nivel()\n",
    "                print_user_level_dict(nivel_e_user)\n",
    "            case '4':\n",
    "                group_users_by_ent()\n",
    "            case '5':\n",
    "                quantos_users, quantas_ents, dic_eu, dic_nu = indicadores()\n",
    "                print(\"O sistema tem {} utilizadores.\".format(quantos_users))\n",
    "                print(\"O sistema tem {} entidades.\".format(quantas_ents))\n",
    "                print(\"\\n\\nDistribuição em número de entidades:\")\n",
    "                print_entity_user_dic(dic_eu)\n",
    "                print(\"\\n\\nDistribuição em número por nível.\")\n",
    "                print_user_level_dict(dic_nu)\n",
    "            case '6':\n",
    "                print(\"Insira o número de entradas a escrever em JSON.\")\n",
    "                n = int(input())\n",
    "                vinte_JSON(n)\n",
    "            case '':\n",
    "                return\n",
    "            case _:\n",
    "                print (\"\\nTente novamente.\\n\")\n",
    "        inputFromUser = input(prompt)"
   ]
  },
  {
   "cell_type": "code",
   "execution_count": 16,
   "metadata": {},
   "outputs": [],
   "source": [
    "if __name__ == \"__main__\":\n",
    "    main()"
   ]
  },
  {
   "cell_type": "markdown",
   "metadata": {},
   "source": [
    "---"
   ]
  },
  {
   "cell_type": "markdown",
   "metadata": {},
   "source": [
    "### Filtros extra"
   ]
  },
  {
   "cell_type": "code",
   "execution_count": 17,
   "metadata": {},
   "outputs": [],
   "source": [
    "all_data_regexp = r'^([^:]+)[ ]::[ ]([^:]+)[ ]::[ ]([^:]+)[ ]::[ ]([^:]+)[ ]::[ ]([^:]+)'\n",
    "all_data = name_ent_regexep = re.compile(nome_e_entidade, re.MULTILINE)\n",
    "\n"
   ]
  }
 ],
 "metadata": {
  "interpreter": {
   "hash": "aee8b7b246df8f9039afb4144a1f6fd8d2ca17a180786b69acc140d282b71a49"
  },
  "kernelspec": {
   "display_name": "Python 3 (ipykernel)",
   "language": "python",
   "name": "python3"
  },
  "language_info": {
   "codemirror_mode": {
    "name": "ipython",
    "version": 3
   },
   "file_extension": ".py",
   "mimetype": "text/x-python",
   "name": "python",
   "nbconvert_exporter": "python",
   "pygments_lexer": "ipython3",
   "version": "3.8.11"
  }
 },
 "nbformat": 4,
 "nbformat_minor": 2
}
