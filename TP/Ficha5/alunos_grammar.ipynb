{
 "cells": [
  {
   "cell_type": "code",
   "execution_count": 1,
   "metadata": {},
   "outputs": [],
   "source": [
    "import ply.yacc as yacc"
   ]
  },
  {
   "cell_type": "markdown",
   "metadata": {},
   "source": [
    "$$\n",
    "\\begin{align}\n",
    "& \\text{TURMAS} \\rightarrow \\text{TURMAS TURMA} \\ \\vert \\ \\text{TURMA} \\\\\n",
    "& \\text{TURMA} \\rightarrow \\text{Turma id ':'}{\\{\\backslash t \\backslash r \\backslash n\\}}^+ \\text{ALUNOS} \\\\\n",
    "& \\text{ALUNOS} \\rightarrow \\text{ALUNOS ALUNO} \\ \\vert \\ \\text{ALUNO} \\\\\n",
    "& \\text{ALUNO} \\rightarrow \\text{AL NOTAS '.'} \\\\\n",
    "& \\text{AL} \\rightarrow \\text{Aluno NOME} \\\\\n",
    "& \\text{NOME} \\rightarrow \\text{id id} \\\\\n",
    "& \\text{NOTAS} \\rightarrow \\text{NOTAS ',' NOTA} \\ \\vert \\ \\text{ NOTA} \\\\\n",
    "& \\text{NOTA} \\rightarrow {(\\backslash d)}^{\\{1,2\\}}\n",
    "\\end{align}\n",
    "$$"
   ]
  }
 ],
 "metadata": {
  "interpreter": {
   "hash": "b3ba2566441a7c06988d0923437866b63cedc61552a5af99d1f4fb67d367b25f"
  },
  "kernelspec": {
   "display_name": "Python 3.8.11 64-bit ('base': conda)",
   "language": "python",
   "name": "python3"
  },
  "language_info": {
   "codemirror_mode": {
    "name": "ipython",
    "version": 3
   },
   "file_extension": ".py",
   "mimetype": "text/x-python",
   "name": "python",
   "nbconvert_exporter": "python",
   "pygments_lexer": "ipython3",
   "version": "3.8.11"
  },
  "orig_nbformat": 4
 },
 "nbformat": 4,
 "nbformat_minor": 2
}
